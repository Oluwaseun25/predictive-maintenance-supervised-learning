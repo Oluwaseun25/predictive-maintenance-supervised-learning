{
 "cells": [
  {
   "cell_type": "markdown",
   "id": "59119487-05bc-4a7f-8bd9-408749ca93cf",
   "metadata": {},
   "source": [
    "#  Feature Engineering for Predictive Maintenance"
   ]
  },
  {
   "cell_type": "markdown",
   "id": "4ed23e9d-49c0-4a12-b9c3-10f35a72deae",
   "metadata": {},
   "source": [
    "## Description:\n",
    "In the Predictive Maintenance with Supervised Learning project, the Feature Engineering notebook (02_feature_engineering.ipynb) plays a crucial role in preparing the data for model training and improving the predictive performance of the machine learning models. Feature engineering involves creating new features, transforming existing ones, or selecting subsets of features to enhance the model's ability to capture patterns and make accurate predictions.\n",
    "\n",
    "## Objective:\n",
    "The primary objective of this notebook is to engineer informative and predictive features from the raw data collected from industrial machines. By crafting meaningful features, we aim to improve the model's ability to detect machine failures and predict their occurrence, thereby enabling proactive maintenance strategies."
   ]
  },
  {
   "cell_type": "markdown",
   "id": "0e99cf08-11d1-4019-898e-bdab0d5a5a4f",
   "metadata": {},
   "source": [
    "### Data Loading"
   ]
  },
  {
   "cell_type": "code",
   "execution_count": 12,
   "id": "6c3f9e1f-076d-4dcd-8468-0bc19da2bea2",
   "metadata": {},
   "outputs": [],
   "source": [
    "import matplotlib.pyplot as plt\n",
    "import numpy as np\n",
    "import pandas as pd\n",
    "import seaborn as sns\n",
    "from sklearn.preprocessing import OneHotEncoder\n",
    "from sklearn.preprocessing import LabelEncoder\n",
    "from sklearn.preprocessing import StandardScaler"
   ]
  },
  {
   "cell_type": "code",
   "execution_count": 4,
   "id": "16f83806-e7bd-4e93-946d-619f43238aa3",
   "metadata": {},
   "outputs": [],
   "source": [
    "data = pd.read_csv(r\"C:\\Users\\USER\\Documents\\Python Scripts\\Machine learning\\Neural networks\\Predictive Maintenance\\predictive-maintenance-supervised-learning\\data\\new_dataframe.csv\")\n"
   ]
  },
  {
   "cell_type": "code",
   "execution_count": 5,
   "id": "c37f4f06-de35-482a-92fb-49ed8bdd9e43",
   "metadata": {},
   "outputs": [],
   "source": [
    "encoded_data = pd.read_csv(r\"C:\\Users\\USER\\Documents\\Python Scripts\\Machine learning\\Neural networks\\Predictive Maintenance\\predictive-maintenance-supervised-learning\\data\\encoded_data.csv\")\n"
   ]
  },
  {
   "cell_type": "markdown",
   "id": "210f3286-5a31-4b6f-8e8e-bbe28c8bf947",
   "metadata": {},
   "source": [
    "### Feature Creation:\n",
    "\n",
    "- Create new features based on domain knowledge and insights gained from the EDA.\n"
   ]
  },
  {
   "cell_type": "code",
   "execution_count": 8,
   "id": "c25fcf9c-25ba-456d-a25c-22914f7ae580",
   "metadata": {},
   "outputs": [],
   "source": [
    "feat_df = encoded_data.copy()"
   ]
  },
  {
   "cell_type": "code",
   "execution_count": 9,
   "id": "b2eccdda-f600-43af-b1ef-1f24e5843bee",
   "metadata": {},
   "outputs": [],
   "source": [
    "# Create new feature: Product of Air temperature and Process temperature\n",
    "feat_df['temp_product'] = feat_df['Air temperature [K]'] * feat_df['Process temperature [K]']\n",
    "\n",
    "# Create new feature: Difference between Air temperature and Process temperature\n",
    "feat_df['temp_difference'] = feat_df['Air temperature [K]'] - feat_df['Process temperature [K]']\n",
    "\n",
    "# Create new feature: Product of Rotational speed and Torque (Power output)\n",
    "feat_df['power_output'] = feat_df['Rotational speed [rpm]'] * feat_df['Torque [Nm]']\n"
   ]
  },
  {
   "cell_type": "code",
   "execution_count": 10,
   "id": "8440ff5a-e1c0-4362-9e3f-8dc8f7bb4551",
   "metadata": {},
   "outputs": [
    {
     "data": {
      "text/html": [
       "<div>\n",
       "<style scoped>\n",
       "    .dataframe tbody tr th:only-of-type {\n",
       "        vertical-align: middle;\n",
       "    }\n",
       "\n",
       "    .dataframe tbody tr th {\n",
       "        vertical-align: top;\n",
       "    }\n",
       "\n",
       "    .dataframe thead th {\n",
       "        text-align: right;\n",
       "    }\n",
       "</style>\n",
       "<table border=\"1\" class=\"dataframe\">\n",
       "  <thead>\n",
       "    <tr style=\"text-align: right;\">\n",
       "      <th></th>\n",
       "      <th>Air temperature [K]</th>\n",
       "      <th>Process temperature [K]</th>\n",
       "      <th>Rotational speed [rpm]</th>\n",
       "      <th>Torque [Nm]</th>\n",
       "      <th>Tool wear [min]</th>\n",
       "      <th>Machine failure</th>\n",
       "      <th>Failure Type</th>\n",
       "      <th>Type_H</th>\n",
       "      <th>Type_L</th>\n",
       "      <th>Type_M</th>\n",
       "      <th>temp_product</th>\n",
       "      <th>temp_difference</th>\n",
       "      <th>power_output</th>\n",
       "    </tr>\n",
       "  </thead>\n",
       "  <tbody>\n",
       "    <tr>\n",
       "      <th>0</th>\n",
       "      <td>298.1</td>\n",
       "      <td>308.6</td>\n",
       "      <td>1551.0</td>\n",
       "      <td>42.8</td>\n",
       "      <td>0.0</td>\n",
       "      <td>0</td>\n",
       "      <td>0</td>\n",
       "      <td>0</td>\n",
       "      <td>0</td>\n",
       "      <td>1</td>\n",
       "      <td>91993.66</td>\n",
       "      <td>-10.5</td>\n",
       "      <td>66382.8</td>\n",
       "    </tr>\n",
       "    <tr>\n",
       "      <th>1</th>\n",
       "      <td>298.2</td>\n",
       "      <td>308.7</td>\n",
       "      <td>1408.0</td>\n",
       "      <td>46.3</td>\n",
       "      <td>3.0</td>\n",
       "      <td>0</td>\n",
       "      <td>0</td>\n",
       "      <td>0</td>\n",
       "      <td>1</td>\n",
       "      <td>0</td>\n",
       "      <td>92054.34</td>\n",
       "      <td>-10.5</td>\n",
       "      <td>65190.4</td>\n",
       "    </tr>\n",
       "    <tr>\n",
       "      <th>2</th>\n",
       "      <td>298.1</td>\n",
       "      <td>308.5</td>\n",
       "      <td>1498.0</td>\n",
       "      <td>49.4</td>\n",
       "      <td>5.0</td>\n",
       "      <td>0</td>\n",
       "      <td>0</td>\n",
       "      <td>0</td>\n",
       "      <td>1</td>\n",
       "      <td>0</td>\n",
       "      <td>91963.85</td>\n",
       "      <td>-10.4</td>\n",
       "      <td>74001.2</td>\n",
       "    </tr>\n",
       "    <tr>\n",
       "      <th>3</th>\n",
       "      <td>298.2</td>\n",
       "      <td>308.6</td>\n",
       "      <td>1433.0</td>\n",
       "      <td>39.5</td>\n",
       "      <td>7.0</td>\n",
       "      <td>0</td>\n",
       "      <td>0</td>\n",
       "      <td>0</td>\n",
       "      <td>1</td>\n",
       "      <td>0</td>\n",
       "      <td>92024.52</td>\n",
       "      <td>-10.4</td>\n",
       "      <td>56603.5</td>\n",
       "    </tr>\n",
       "    <tr>\n",
       "      <th>4</th>\n",
       "      <td>298.2</td>\n",
       "      <td>308.7</td>\n",
       "      <td>1408.0</td>\n",
       "      <td>40.0</td>\n",
       "      <td>9.0</td>\n",
       "      <td>0</td>\n",
       "      <td>0</td>\n",
       "      <td>0</td>\n",
       "      <td>1</td>\n",
       "      <td>0</td>\n",
       "      <td>92054.34</td>\n",
       "      <td>-10.5</td>\n",
       "      <td>56320.0</td>\n",
       "    </tr>\n",
       "    <tr>\n",
       "      <th>...</th>\n",
       "      <td>...</td>\n",
       "      <td>...</td>\n",
       "      <td>...</td>\n",
       "      <td>...</td>\n",
       "      <td>...</td>\n",
       "      <td>...</td>\n",
       "      <td>...</td>\n",
       "      <td>...</td>\n",
       "      <td>...</td>\n",
       "      <td>...</td>\n",
       "      <td>...</td>\n",
       "      <td>...</td>\n",
       "      <td>...</td>\n",
       "    </tr>\n",
       "    <tr>\n",
       "      <th>9968</th>\n",
       "      <td>298.8</td>\n",
       "      <td>308.4</td>\n",
       "      <td>1604.0</td>\n",
       "      <td>29.5</td>\n",
       "      <td>14.0</td>\n",
       "      <td>0</td>\n",
       "      <td>0</td>\n",
       "      <td>0</td>\n",
       "      <td>0</td>\n",
       "      <td>1</td>\n",
       "      <td>92149.92</td>\n",
       "      <td>-9.6</td>\n",
       "      <td>47318.0</td>\n",
       "    </tr>\n",
       "    <tr>\n",
       "      <th>9969</th>\n",
       "      <td>298.9</td>\n",
       "      <td>308.4</td>\n",
       "      <td>1632.0</td>\n",
       "      <td>31.8</td>\n",
       "      <td>17.0</td>\n",
       "      <td>0</td>\n",
       "      <td>0</td>\n",
       "      <td>1</td>\n",
       "      <td>0</td>\n",
       "      <td>0</td>\n",
       "      <td>92180.76</td>\n",
       "      <td>-9.5</td>\n",
       "      <td>51897.6</td>\n",
       "    </tr>\n",
       "    <tr>\n",
       "      <th>9970</th>\n",
       "      <td>299.0</td>\n",
       "      <td>308.6</td>\n",
       "      <td>1645.0</td>\n",
       "      <td>33.4</td>\n",
       "      <td>22.0</td>\n",
       "      <td>0</td>\n",
       "      <td>0</td>\n",
       "      <td>0</td>\n",
       "      <td>0</td>\n",
       "      <td>1</td>\n",
       "      <td>92271.40</td>\n",
       "      <td>-9.6</td>\n",
       "      <td>54943.0</td>\n",
       "    </tr>\n",
       "    <tr>\n",
       "      <th>9971</th>\n",
       "      <td>299.0</td>\n",
       "      <td>308.7</td>\n",
       "      <td>1408.0</td>\n",
       "      <td>48.5</td>\n",
       "      <td>25.0</td>\n",
       "      <td>0</td>\n",
       "      <td>0</td>\n",
       "      <td>1</td>\n",
       "      <td>0</td>\n",
       "      <td>0</td>\n",
       "      <td>92301.30</td>\n",
       "      <td>-9.7</td>\n",
       "      <td>68288.0</td>\n",
       "    </tr>\n",
       "    <tr>\n",
       "      <th>9972</th>\n",
       "      <td>299.0</td>\n",
       "      <td>308.7</td>\n",
       "      <td>1500.0</td>\n",
       "      <td>40.2</td>\n",
       "      <td>30.0</td>\n",
       "      <td>0</td>\n",
       "      <td>0</td>\n",
       "      <td>0</td>\n",
       "      <td>0</td>\n",
       "      <td>1</td>\n",
       "      <td>92301.30</td>\n",
       "      <td>-9.7</td>\n",
       "      <td>60300.0</td>\n",
       "    </tr>\n",
       "  </tbody>\n",
       "</table>\n",
       "<p>9973 rows × 13 columns</p>\n",
       "</div>"
      ],
      "text/plain": [
       "      Air temperature [K]  Process temperature [K]  Rotational speed [rpm]  \\\n",
       "0                   298.1                    308.6                  1551.0   \n",
       "1                   298.2                    308.7                  1408.0   \n",
       "2                   298.1                    308.5                  1498.0   \n",
       "3                   298.2                    308.6                  1433.0   \n",
       "4                   298.2                    308.7                  1408.0   \n",
       "...                   ...                      ...                     ...   \n",
       "9968                298.8                    308.4                  1604.0   \n",
       "9969                298.9                    308.4                  1632.0   \n",
       "9970                299.0                    308.6                  1645.0   \n",
       "9971                299.0                    308.7                  1408.0   \n",
       "9972                299.0                    308.7                  1500.0   \n",
       "\n",
       "      Torque [Nm]  Tool wear [min]  Machine failure  Failure Type  Type_H  \\\n",
       "0            42.8              0.0                0             0       0   \n",
       "1            46.3              3.0                0             0       0   \n",
       "2            49.4              5.0                0             0       0   \n",
       "3            39.5              7.0                0             0       0   \n",
       "4            40.0              9.0                0             0       0   \n",
       "...           ...              ...              ...           ...     ...   \n",
       "9968         29.5             14.0                0             0       0   \n",
       "9969         31.8             17.0                0             0       1   \n",
       "9970         33.4             22.0                0             0       0   \n",
       "9971         48.5             25.0                0             0       1   \n",
       "9972         40.2             30.0                0             0       0   \n",
       "\n",
       "      Type_L  Type_M  temp_product  temp_difference  power_output  \n",
       "0          0       1      91993.66            -10.5       66382.8  \n",
       "1          1       0      92054.34            -10.5       65190.4  \n",
       "2          1       0      91963.85            -10.4       74001.2  \n",
       "3          1       0      92024.52            -10.4       56603.5  \n",
       "4          1       0      92054.34            -10.5       56320.0  \n",
       "...      ...     ...           ...              ...           ...  \n",
       "9968       0       1      92149.92             -9.6       47318.0  \n",
       "9969       0       0      92180.76             -9.5       51897.6  \n",
       "9970       0       1      92271.40             -9.6       54943.0  \n",
       "9971       0       0      92301.30             -9.7       68288.0  \n",
       "9972       0       1      92301.30             -9.7       60300.0  \n",
       "\n",
       "[9973 rows x 13 columns]"
      ]
     },
     "execution_count": 10,
     "metadata": {},
     "output_type": "execute_result"
    }
   ],
   "source": [
    "feat_df"
   ]
  },
  {
   "cell_type": "code",
   "execution_count": 11,
   "id": "2ea179d5-f2fb-4f5b-a354-762f8bae8c7e",
   "metadata": {},
   "outputs": [
    {
     "data": {
      "text/html": [
       "<div>\n",
       "<style scoped>\n",
       "    .dataframe tbody tr th:only-of-type {\n",
       "        vertical-align: middle;\n",
       "    }\n",
       "\n",
       "    .dataframe tbody tr th {\n",
       "        vertical-align: top;\n",
       "    }\n",
       "\n",
       "    .dataframe thead th {\n",
       "        text-align: right;\n",
       "    }\n",
       "</style>\n",
       "<table border=\"1\" class=\"dataframe\">\n",
       "  <thead>\n",
       "    <tr style=\"text-align: right;\">\n",
       "      <th></th>\n",
       "      <th>Type</th>\n",
       "      <th>Air temperature [K]</th>\n",
       "      <th>Process temperature [K]</th>\n",
       "      <th>Rotational speed [rpm]</th>\n",
       "      <th>Torque [Nm]</th>\n",
       "      <th>Tool wear [min]</th>\n",
       "      <th>Machine failure</th>\n",
       "      <th>Failure Type</th>\n",
       "    </tr>\n",
       "  </thead>\n",
       "  <tbody>\n",
       "    <tr>\n",
       "      <th>0</th>\n",
       "      <td>M</td>\n",
       "      <td>298.1</td>\n",
       "      <td>308.6</td>\n",
       "      <td>1551.0</td>\n",
       "      <td>42.8</td>\n",
       "      <td>0.0</td>\n",
       "      <td>0</td>\n",
       "      <td>No Failure</td>\n",
       "    </tr>\n",
       "    <tr>\n",
       "      <th>1</th>\n",
       "      <td>L</td>\n",
       "      <td>298.2</td>\n",
       "      <td>308.7</td>\n",
       "      <td>1408.0</td>\n",
       "      <td>46.3</td>\n",
       "      <td>3.0</td>\n",
       "      <td>0</td>\n",
       "      <td>No Failure</td>\n",
       "    </tr>\n",
       "    <tr>\n",
       "      <th>2</th>\n",
       "      <td>L</td>\n",
       "      <td>298.1</td>\n",
       "      <td>308.5</td>\n",
       "      <td>1498.0</td>\n",
       "      <td>49.4</td>\n",
       "      <td>5.0</td>\n",
       "      <td>0</td>\n",
       "      <td>No Failure</td>\n",
       "    </tr>\n",
       "    <tr>\n",
       "      <th>3</th>\n",
       "      <td>L</td>\n",
       "      <td>298.2</td>\n",
       "      <td>308.6</td>\n",
       "      <td>1433.0</td>\n",
       "      <td>39.5</td>\n",
       "      <td>7.0</td>\n",
       "      <td>0</td>\n",
       "      <td>No Failure</td>\n",
       "    </tr>\n",
       "    <tr>\n",
       "      <th>4</th>\n",
       "      <td>L</td>\n",
       "      <td>298.2</td>\n",
       "      <td>308.7</td>\n",
       "      <td>1408.0</td>\n",
       "      <td>40.0</td>\n",
       "      <td>9.0</td>\n",
       "      <td>0</td>\n",
       "      <td>No Failure</td>\n",
       "    </tr>\n",
       "    <tr>\n",
       "      <th>...</th>\n",
       "      <td>...</td>\n",
       "      <td>...</td>\n",
       "      <td>...</td>\n",
       "      <td>...</td>\n",
       "      <td>...</td>\n",
       "      <td>...</td>\n",
       "      <td>...</td>\n",
       "      <td>...</td>\n",
       "    </tr>\n",
       "    <tr>\n",
       "      <th>9968</th>\n",
       "      <td>M</td>\n",
       "      <td>298.8</td>\n",
       "      <td>308.4</td>\n",
       "      <td>1604.0</td>\n",
       "      <td>29.5</td>\n",
       "      <td>14.0</td>\n",
       "      <td>0</td>\n",
       "      <td>No Failure</td>\n",
       "    </tr>\n",
       "    <tr>\n",
       "      <th>9969</th>\n",
       "      <td>H</td>\n",
       "      <td>298.9</td>\n",
       "      <td>308.4</td>\n",
       "      <td>1632.0</td>\n",
       "      <td>31.8</td>\n",
       "      <td>17.0</td>\n",
       "      <td>0</td>\n",
       "      <td>No Failure</td>\n",
       "    </tr>\n",
       "    <tr>\n",
       "      <th>9970</th>\n",
       "      <td>M</td>\n",
       "      <td>299.0</td>\n",
       "      <td>308.6</td>\n",
       "      <td>1645.0</td>\n",
       "      <td>33.4</td>\n",
       "      <td>22.0</td>\n",
       "      <td>0</td>\n",
       "      <td>No Failure</td>\n",
       "    </tr>\n",
       "    <tr>\n",
       "      <th>9971</th>\n",
       "      <td>H</td>\n",
       "      <td>299.0</td>\n",
       "      <td>308.7</td>\n",
       "      <td>1408.0</td>\n",
       "      <td>48.5</td>\n",
       "      <td>25.0</td>\n",
       "      <td>0</td>\n",
       "      <td>No Failure</td>\n",
       "    </tr>\n",
       "    <tr>\n",
       "      <th>9972</th>\n",
       "      <td>M</td>\n",
       "      <td>299.0</td>\n",
       "      <td>308.7</td>\n",
       "      <td>1500.0</td>\n",
       "      <td>40.2</td>\n",
       "      <td>30.0</td>\n",
       "      <td>0</td>\n",
       "      <td>No Failure</td>\n",
       "    </tr>\n",
       "  </tbody>\n",
       "</table>\n",
       "<p>9973 rows × 8 columns</p>\n",
       "</div>"
      ],
      "text/plain": [
       "     Type  Air temperature [K]  Process temperature [K]  \\\n",
       "0       M                298.1                    308.6   \n",
       "1       L                298.2                    308.7   \n",
       "2       L                298.1                    308.5   \n",
       "3       L                298.2                    308.6   \n",
       "4       L                298.2                    308.7   \n",
       "...   ...                  ...                      ...   \n",
       "9968    M                298.8                    308.4   \n",
       "9969    H                298.9                    308.4   \n",
       "9970    M                299.0                    308.6   \n",
       "9971    H                299.0                    308.7   \n",
       "9972    M                299.0                    308.7   \n",
       "\n",
       "      Rotational speed [rpm]  Torque [Nm]  Tool wear [min]  Machine failure  \\\n",
       "0                     1551.0         42.8              0.0                0   \n",
       "1                     1408.0         46.3              3.0                0   \n",
       "2                     1498.0         49.4              5.0                0   \n",
       "3                     1433.0         39.5              7.0                0   \n",
       "4                     1408.0         40.0              9.0                0   \n",
       "...                      ...          ...              ...              ...   \n",
       "9968                  1604.0         29.5             14.0                0   \n",
       "9969                  1632.0         31.8             17.0                0   \n",
       "9970                  1645.0         33.4             22.0                0   \n",
       "9971                  1408.0         48.5             25.0                0   \n",
       "9972                  1500.0         40.2             30.0                0   \n",
       "\n",
       "     Failure Type  \n",
       "0      No Failure  \n",
       "1      No Failure  \n",
       "2      No Failure  \n",
       "3      No Failure  \n",
       "4      No Failure  \n",
       "...           ...  \n",
       "9968   No Failure  \n",
       "9969   No Failure  \n",
       "9970   No Failure  \n",
       "9971   No Failure  \n",
       "9972   No Failure  \n",
       "\n",
       "[9973 rows x 8 columns]"
      ]
     },
     "execution_count": 11,
     "metadata": {},
     "output_type": "execute_result"
    }
   ],
   "source": [
    "data"
   ]
  },
  {
   "cell_type": "code",
   "execution_count": 14,
   "id": "7a602aea-5431-411e-bf37-6a7ddf1eeebe",
   "metadata": {},
   "outputs": [],
   "source": [
    "# Initialize StandardScaler\n",
    "scaler = StandardScaler()\n",
    "\n",
    "# Define numerical features to be scaled\n",
    "numerical_features = ['Air temperature [K]','Process temperature [K]','Rotational speed [rpm]','Torque [Nm]','Tool wear [min]','temp_product','temp_difference','power_output']\n",
    "\n",
    "# Apply StandardScaler to the numerical features\n",
    "feat_df[numerical_features] = scaler.fit_transform(feat_df[numerical_features])"
   ]
  },
  {
   "cell_type": "markdown",
   "id": "9e25f5dd-9e35-472d-bf80-61fa8b2db8c9",
   "metadata": {},
   "source": [
    "### Feature Importance"
   ]
  },
  {
   "cell_type": "code",
   "execution_count": 17,
   "id": "8e8537c4-3152-4df0-854f-ef99cdbf670c",
   "metadata": {},
   "outputs": [
    {
     "data": {
      "image/png": "[encoded data removed]",
      "text/plain": [
       "<Figure size 800x500 with 2 Axes>"
      ]
     },
     "metadata": {},
     "output_type": "display_data"
    }
   ],
   "source": [
    "# Correlation Analysis\n",
    "correlation_matrix = feat_df.corr()\n",
    "\n",
    "# Plotting the correlation matrix as a heatmap with adjusted font size\n",
    "plt.figure(figsize=(8, 5))\n",
    "sns.heatmap(correlation_matrix, annot=True, cmap='coolwarm', fmt=\".2f\", annot_kws={\"size\": 10})\n",
    "plt.title('Correlation Matrix')\n",
    "plt.show()"
   ]
  },
  {
   "cell_type": "markdown",
   "id": "d34b0caa-a28f-4898-8ca0-851583a34ff1",
   "metadata": {},
   "source": [
    "Obeseravtion of the correlation of nre features and other variables and target\n",
    "\n",
    "- The power_output column is highly postively correlated to Torque and high negatively correlated to rotational speed. It is also positively correlated to\n",
    "\n",
    "both targets.\n",
    "- The temp_difference column is  postively correlated to air temprature and postively correlated to process temprature. It is also positively correlated to both targets.\n",
    "\n",
    "- The temp_product column is highly postively correlated to air temprature and highly postively correlated to process temprature. It is also positively correlated to both targets."
   ]
  },
  {
   "cell_type": "code",
   "execution_count": 19,
   "id": "c35769fa-7ef3-4451-8b48-48667a4f915f",
   "metadata": {},
   "outputs": [
    {
     "data": {
      "application/vnd.plotly.v1+json": {
       "config": {
        "plotlyServerURL": "https://plot.ly"
       },
       "data": [
        {
         "colorscale": [
          [
           0,
           "#440154"
          ],
          [
           0.1111111111111111,
           "#482878"
          ],
          [
           0.2222222222222222,
           "#3e4989"
          ],
          [
           0.3333333333333333,
           "#31688e"
          ],
          [
           0.4444444444444444,
           "#26828e"
          ],
          [
           0.5555555555555556,
           "#1f9e89"
          ],
          [
           0.6666666666666666,
           "#35b779"
          ],
          [
           0.7777777777777778,
           "#6ece58"
          ],
          [
           0.8888888888888888,
           "#b5de2b"
          ],
          [
           1,
           "#fde725"
          ]
         ],
         "text": [
          [
           1,
           0.88,
           0.02,
           -0.01,
           0.01,
           0.08,
           0.1,
           -0.02,
           0.01,
           0.01,
           0.98,
           0.7,
           -0.01
          ],
          [
           0.88,
           1,
           0.02,
           -0.02,
           0.01,
           0.04,
           0.04,
           -0.02,
           0.01,
           0.01,
           0.96,
           0.27,
           -0.01
          ],
          [
           0.02,
           0.02,
           1,
           -0.88,
           0,
           -0.04,
           -0.09,
           0,
           0,
           0,
           0.02,
           0.02,
           -0.81
          ],
          [
           -0.01,
           -0.02,
           -0.88,
           1,
           0,
           0.19,
           0.16,
           -0.01,
           0,
           0,
           -0.02,
           -0.01,
           0.98
          ],
          [
           0.01,
           0.01,
           0,
           0,
           1,
           0.11,
           0.12,
           0,
           0.01,
           -0.01,
           0.01,
           0.01,
           0
          ],
          [
           0.08,
           0.04,
           -0.04,
           0.19,
           0.11,
           1,
           0.91,
           -0.02,
           0.04,
           -0.02,
           0.07,
           0.11,
           0.18
          ],
          [
           0.1,
           0.04,
           -0.09,
           0.16,
           0.12,
           0.91,
           1,
           -0.01,
           0.03,
           -0.02,
           0.08,
           0.13,
           0.14
          ],
          [
           -0.02,
           -0.02,
           0,
           -0.01,
           0,
           -0.02,
           -0.01,
           1,
           -0.41,
           -0.22,
           -0.02,
           -0.02,
           -0.01
          ],
          [
           0.01,
           0.01,
           0,
           0,
           0.01,
           0.04,
           0.03,
           -0.41,
           1,
           -0.8,
           0.01,
           0.01,
           0
          ],
          [
           0.01,
           0.01,
           0,
           0,
           -0.01,
           -0.02,
           -0.02,
           -0.22,
           -0.8,
           1,
           0.01,
           0.01,
           0
          ],
          [
           0.98,
           0.96,
           0.02,
           -0.02,
           0.01,
           0.07,
           0.08,
           -0.02,
           0.01,
           0.01,
           1,
           0.54,
           -0.01
          ],
          [
           0.7,
           0.27,
           0.02,
           -0.01,
           0.01,
           0.11,
           0.13,
           -0.02,
           0.01,
           0.01,
           0.54,
           1,
           -0.01
          ],
          [
           -0.01,
           -0.01,
           -0.81,
           0.98,
           0,
           0.18,
           0.14,
           -0.01,
           0,
           0,
           -0.01,
           -0.01,
           1
          ]
         ],
         "type": "heatmap",
         "x": [
          "Air temperature [K]",
          "Process temperature [K]",
          "Rotational speed [rpm]",
          "Torque [Nm]",
          "Tool wear [min]",
          "Machine failure",
          "Failure Type",
          "Type_H",
          "Type_L",
          "Type_M",
          "temp_product",
          "temp_difference",
          "power_output"
         ],
         "y": [
          "Air temperature [K]",
          "Process temperature [K]",
          "Rotational speed [rpm]",
          "Torque [Nm]",
          "Tool wear [min]",
          "Machine failure",
          "Failure Type",
          "Type_H",
          "Type_L",
          "Type_M",
          "temp_product",
          "temp_difference",
          "power_output"
         ],
         "z": [
          [
           1,
           0.8760680669055656,
           0.023332345576718344,
           -0.014552847564444974,
           0.014370491503435263,
           0.08306614920748115,
           0.09959993704798387,
           -0.023175575452577604,
           0.006691423289627936,
           0.00802402454297159,
           0.9782078569356389,
           0.6997366463915367,
           -0.012132862317428468
          ],
          [
           0.8760680669055656,
           1,
           0.020199883561507623,
           -0.015275095184434576,
           0.013970361607572078,
           0.0359973306952677,
           0.04428807574661781,
           -0.018247481124145974,
           0.0052395741419500146,
           0.006348758356974739,
           0.9570802279879282,
           0.2685417858635219,
           -0.012099968877988062
          ],
          [
           0.023332345576718344,
           0.020199883561507623,
           1,
           -0.8750692996571533,
           -0.00010995467461009848,
           -0.04404174331955341,
           -0.08633021960746796,
           -0.0009599598374530144,
           0.004717585941404213,
           -0.004415011692430411,
           0.02274989365510642,
           0.016683320769332058,
           -0.8055890768473063
          ],
          [
           -0.014552847564444974,
           -0.015275095184434576,
           -0.8750692996571533,
           1,
           -0.002552429768282731,
           0.19341988627358822,
           0.1637880655956209,
           -0.005080390786831007,
           0.0009550589946947284,
           0.0023061395267881127,
           -0.015335433601237203,
           -0.006440962588662051,
           0.9787894364718459
          ],
          [
           0.014370491503435263,
           0.013970361607572078,
           -0.00010995467461009848,
           -0.002552429768282731,
           1,
           0.10633660470454961,
           0.11872992435394782,
           -0.0011772507121875957,
           0.006969530132723415,
           -0.006680321293229301,
           0.01464232998964827,
           0.008009740560545289,
           -0.0026203140379878064
          ],
          [
           0.08306614920748115,
           0.0359973306952677,
           -0.04404174331955341,
           0.19341988627358822,
           0.10633660470454961,
           1,
           0.9136598376889009,
           -0.02432745777152246,
           0.03775389748540226,
           -0.02443135067402212,
           0.06540460817876702,
           0.11260857341430962,
           0.17798700960270933
          ],
          [
           0.09959993704798387,
           0.04428807574661781,
           -0.08633021960746796,
           0.1637880655956209,
           0.11872992435394782,
           0.9136598376889009,
           1,
           -0.014265214031914216,
           0.029070071745017835,
           -0.021737135650237736,
           0.07888406074146852,
           0.13335476583434627,
           0.14413034739873104
          ],
          [
           -0.023175575452577604,
           -0.018247481124145974,
           -0.0009599598374530144,
           -0.005080390786831007,
           -0.0011772507121875957,
           -0.02432745777152246,
           -0.014265214031914216,
           1,
           -0.40842452844155264,
           -0.21825606770113404,
           -0.021766265148732866,
           -0.019262787255343423,
           -0.0051138038567027444
          ],
          [
           0.006691423289627936,
           0.0052395741419500146,
           0.004717585941404213,
           0.0009550589946947284,
           0.006969530132723415,
           0.03775389748540226,
           0.029070071745017835,
           -0.40842452844155264,
           1,
           -0.8016449453755767,
           0.006227916526528177,
           0.005604620634004625,
           0.0030892957854785448
          ],
          [
           0.00802402454297159,
           0.006348758356974739,
           -0.004415011692430411,
           0.0023061395267881127,
           -0.006680321293229301,
           -0.02443135067402212,
           -0.021737135650237736,
           -0.21825606770113404,
           -0.8016449453755767,
           1,
           0.007596595324012142,
           0.006623415297451012,
           4.625002202538051e-05
          ],
          [
           0.9782078569356389,
           0.9570802279879282,
           0.02274989365510642,
           -0.015335433601237203,
           0.01464232998964827,
           0.06540460817876702,
           0.07888406074146852,
           -0.021766265148732866,
           0.006227916526528177,
           0.007596595324012142,
           1,
           0.5361761190316824,
           -0.012508567225005401
          ],
          [
           0.6997366463915367,
           0.2685417858635219,
           0.016683320769332058,
           -0.006440962588662051,
           0.008009740560545289,
           0.11260857341430962,
           0.13335476583434627,
           -0.019262787255343423,
           0.005604620634004625,
           0.006623415297451012,
           0.5361761190316824,
           1,
           -0.006310761378686028
          ],
          [
           -0.012132862317428468,
           -0.012099968877988062,
           -0.8055890768473063,
           0.9787894364718459,
           -0.0026203140379878064,
           0.17798700960270933,
           0.14413034739873104,
           -0.0051138038567027444,
           0.0030892957854785448,
           4.625002202538051e-05,
           -0.012508567225005401,
           -0.006310761378686028,
           1
          ]
         ],
         "zmax": 1,
         "zmin": -1
        }
       ],
       "layout": {
        "height": 600,
        "template": {
         "data": {
          "bar": [
           {
            "error_x": {
             "color": "#2a3f5f"
            },
            "error_y": {
             "color": "#2a3f5f"
            },
            "marker": {
             "line": {
              "color": "#E5ECF6",
              "width": 0.5
             },
             "pattern": {
              "fillmode": "overlay",
              "size": 10,
              "solidity": 0.2
             }
            },
            "type": "bar"
           }
          ],
          "barpolar": [
           {
            "marker": {
             "line": {
              "color": "#E5ECF6",
              "width": 0.5
             },
             "pattern": {
              "fillmode": "overlay",
              "size": 10,
              "solidity": 0.2
             }
            },
            "type": "barpolar"
           }
          ],
          "carpet": [
           {
            "aaxis": {
             "endlinecolor": "#2a3f5f",
             "gridcolor": "white",
             "linecolor": "white",
             "minorgridcolor": "white",
             "startlinecolor": "#2a3f5f"
            },
            "baxis": {
             "endlinecolor": "#2a3f5f",
             "gridcolor": "white",
             "linecolor": "white",
             "minorgridcolor": "white",
             "startlinecolor": "#2a3f5f"
            },
            "type": "carpet"
           }
          ],
          "choropleth": [
           {
            "colorbar": {
             "outlinewidth": 0,
             "ticks": ""
            },
            "type": "choropleth"
           }
          ],
          "contour": [
           {
            "colorbar": {
             "outlinewidth": 0,
             "ticks": ""
            },
            "colorscale": [
             [
              0,
              "#0d0887"
             ],
             [
              0.1111111111111111,
              "#46039f"
             ],
             [
              0.2222222222222222,
              "#7201a8"
             ],
             [
              0.3333333333333333,
              "#9c179e"
             ],
             [
              0.4444444444444444,
              "#bd3786"
             ],
             [
              0.5555555555555556,
              "#d8576b"
             ],
             [
              0.6666666666666666,
              "#ed7953"
             ],
             [
              0.7777777777777778,
              "#fb9f3a"
             ],
             [
              0.8888888888888888,
              "#fdca26"
             ],
             [
              1,
              "#f0f921"
             ]
            ],
            "type": "contour"
           }
          ],
          "contourcarpet": [
           {
            "colorbar": {
             "outlinewidth": 0,
             "ticks": ""
            },
            "type": "contourcarpet"
           }
          ],
          "heatmap": [
           {
            "colorbar": {
             "outlinewidth": 0,
             "ticks": ""
            },
            "colorscale": [
             [
              0,
              "#0d0887"
             ],
             [
              0.1111111111111111,
              "#46039f"
             ],
             [
              0.2222222222222222,
              "#7201a8"
             ],
             [
              0.3333333333333333,
              "#9c179e"
             ],
             [
              0.4444444444444444,
              "#bd3786"
             ],
             [
              0.5555555555555556,
              "#d8576b"
             ],
             [
              0.6666666666666666,
              "#ed7953"
             ],
             [
              0.7777777777777778,
              "#fb9f3a"
             ],
             [
              0.8888888888888888,
              "#fdca26"
             ],
             [
              1,
              "#f0f921"
             ]
            ],
            "type": "heatmap"
           }
          ],
          "heatmapgl": [
           {
            "colorbar": {
             "outlinewidth": 0,
             "ticks": ""
            },
            "colorscale": [
             [
              0,
              "#0d0887"
             ],
             [
              0.1111111111111111,
              "#46039f"
             ],
             [
              0.2222222222222222,
              "#7201a8"
             ],
             [
              0.3333333333333333,
              "#9c179e"
             ],
             [
              0.4444444444444444,
              "#bd3786"
             ],
             [
              0.5555555555555556,
              "#d8576b"
             ],
             [
              0.6666666666666666,
              "#ed7953"
             ],
             [
              0.7777777777777778,
              "#fb9f3a"
             ],
             [
              0.8888888888888888,
              "#fdca26"
             ],
             [
              1,
              "#f0f921"
             ]
            ],
            "type": "heatmapgl"
           }
          ],
          "histogram": [
           {
            "marker": {
             "pattern": {
              "fillmode": "overlay",
              "size": 10,
              "solidity": 0.2
             }
            },
            "type": "histogram"
           }
          ],
          "histogram2d": [
           {
            "colorbar": {
             "outlinewidth": 0,
             "ticks": ""
            },
            "colorscale": [
             [
              0,
              "#0d0887"
             ],
             [
              0.1111111111111111,
              "#46039f"
             ],
             [
              0.2222222222222222,
              "#7201a8"
             ],
             [
              0.3333333333333333,
              "#9c179e"
             ],
             [
              0.4444444444444444,
              "#bd3786"
             ],
             [
              0.5555555555555556,
              "#d8576b"
             ],
             [
              0.6666666666666666,
              "#ed7953"
             ],
             [
              0.7777777777777778,
              "#fb9f3a"
             ],
             [
              0.8888888888888888,
              "#fdca26"
             ],
             [
              1,
              "#f0f921"
             ]
            ],
            "type": "histogram2d"
           }
          ],
          "histogram2dcontour": [
           {
            "colorbar": {
             "outlinewidth": 0,
             "ticks": ""
            },
            "colorscale": [
             [
              0,
              "#0d0887"
             ],
             [
              0.1111111111111111,
              "#46039f"
             ],
             [
              0.2222222222222222,
              "#7201a8"
             ],
             [
              0.3333333333333333,
              "#9c179e"
             ],
             [
              0.4444444444444444,
              "#bd3786"
             ],
             [
              0.5555555555555556,
              "#d8576b"
             ],
             [
              0.6666666666666666,
              "#ed7953"
             ],
             [
              0.7777777777777778,
              "#fb9f3a"
             ],
             [
              0.8888888888888888,
              "#fdca26"
             ],
             [
              1,
              "#f0f921"
             ]
            ],
            "type": "histogram2dcontour"
           }
          ],
          "mesh3d": [
           {
            "colorbar": {
             "outlinewidth": 0,
             "ticks": ""
            },
            "type": "mesh3d"
           }
          ],
          "parcoords": [
           {
            "line": {
             "colorbar": {
              "outlinewidth": 0,
              "ticks": ""
             }
            },
            "type": "parcoords"
           }
          ],
          "pie": [
           {
            "automargin": true,
            "type": "pie"
           }
          ],
          "scatter": [
           {
            "fillpattern": {
             "fillmode": "overlay",
             "size": 10,
             "solidity": 0.2
            },
            "type": "scatter"
           }
          ],
          "scatter3d": [
           {
            "line": {
             "colorbar": {
              "outlinewidth": 0,
              "ticks": ""
             }
            },
            "marker": {
             "colorbar": {
              "outlinewidth": 0,
              "ticks": ""
             }
            },
            "type": "scatter3d"
           }
          ],
          "scattercarpet": [
           {
            "marker": {
             "colorbar": {
              "outlinewidth": 0,
              "ticks": ""
             }
            },
            "type": "scattercarpet"
           }
          ],
          "scattergeo": [
           {
            "marker": {
             "colorbar": {
              "outlinewidth": 0,
              "ticks": ""
             }
            },
            "type": "scattergeo"
           }
          ],
          "scattergl": [
           {
            "marker": {
             "colorbar": {
              "outlinewidth": 0,
              "ticks": ""
             }
            },
            "type": "scattergl"
           }
          ],
          "scattermapbox": [
           {
            "marker": {
             "colorbar": {
              "outlinewidth": 0,
              "ticks": ""
             }
            },
            "type": "scattermapbox"
           }
          ],
          "scatterpolar": [
           {
            "marker": {
             "colorbar": {
              "outlinewidth": 0,
              "ticks": ""
             }
            },
            "type": "scatterpolar"
           }
          ],
          "scatterpolargl": [
           {
            "marker": {
             "colorbar": {
              "outlinewidth": 0,
              "ticks": ""
             }
            },
            "type": "scatterpolargl"
           }
          ],
          "scatterternary": [
           {
            "marker": {
             "colorbar": {
              "outlinewidth": 0,
              "ticks": ""
             }
            },
            "type": "scatterternary"
           }
          ],
          "surface": [
           {
            "colorbar": {
             "outlinewidth": 0,
             "ticks": ""
            },
            "colorscale": [
             [
              0,
              "#0d0887"
             ],
             [
              0.1111111111111111,
              "#46039f"
             ],
             [
              0.2222222222222222,
              "#7201a8"
             ],
             [
              0.3333333333333333,
              "#9c179e"
             ],
             [
              0.4444444444444444,
              "#bd3786"
             ],
             [
              0.5555555555555556,
              "#d8576b"
             ],
             [
              0.6666666666666666,
              "#ed7953"
             ],
             [
              0.7777777777777778,
              "#fb9f3a"
             ],
             [
              0.8888888888888888,
              "#fdca26"
             ],
             [
              1,
              "#f0f921"
             ]
            ],
            "type": "surface"
           }
          ],
          "table": [
           {
            "cells": {
             "fill": {
              "color": "#EBF0F8"
             },
             "line": {
              "color": "white"
             }
            },
            "header": {
             "fill": {
              "color": "#C8D4E3"
             },
             "line": {
              "color": "white"
             }
            },
            "type": "table"
           }
          ]
         },
         "layout": {
          "annotationdefaults": {
           "arrowcolor": "#2a3f5f",
           "arrowhead": 0,
           "arrowwidth": 1
          },
          "autotypenumbers": "strict",
          "coloraxis": {
           "colorbar": {
            "outlinewidth": 0,
            "ticks": ""
           }
          },
          "colorscale": {
           "diverging": [
            [
             0,
             "#8e0152"
            ],
            [
             0.1,
             "#c51b7d"
            ],
            [
             0.2,
             "#de77ae"
            ],
            [
             0.3,
             "#f1b6da"
            ],
            [
             0.4,
             "#fde0ef"
            ],
            [
             0.5,
             "#f7f7f7"
            ],
            [
             0.6,
             "#e6f5d0"
            ],
            [
             0.7,
             "#b8e186"
            ],
            [
             0.8,
             "#7fbc41"
            ],
            [
             0.9,
             "#4d9221"
            ],
            [
             1,
             "#276419"
            ]
           ],
           "sequential": [
            [
             0,
             "#0d0887"
            ],
            [
             0.1111111111111111,
             "#46039f"
            ],
            [
             0.2222222222222222,
             "#7201a8"
            ],
            [
             0.3333333333333333,
             "#9c179e"
            ],
            [
             0.4444444444444444,
             "#bd3786"
            ],
            [
             0.5555555555555556,
             "#d8576b"
            ],
            [
             0.6666666666666666,
             "#ed7953"
            ],
            [
             0.7777777777777778,
             "#fb9f3a"
            ],
            [
             0.8888888888888888,
             "#fdca26"
            ],
            [
             1,
             "#f0f921"
            ]
           ],
           "sequentialminus": [
            [
             0,
             "#0d0887"
            ],
            [
             0.1111111111111111,
             "#46039f"
            ],
            [
             0.2222222222222222,
             "#7201a8"
            ],
            [
             0.3333333333333333,
             "#9c179e"
            ],
            [
             0.4444444444444444,
             "#bd3786"
            ],
            [
             0.5555555555555556,
             "#d8576b"
            ],
            [
             0.6666666666666666,
             "#ed7953"
            ],
            [
             0.7777777777777778,
             "#fb9f3a"
            ],
            [
             0.8888888888888888,
             "#fdca26"
            ],
            [
             1,
             "#f0f921"
            ]
           ]
          },
          "colorway": [
           "#636efa",
           "#EF553B",
           "#00cc96",
           "#ab63fa",
           "#FFA15A",
           "#19d3f3",
           "#FF6692",
           "#B6E880",
           "#FF97FF",
           "#FECB52"
          ],
          "font": {
           "color": "#2a3f5f"
          },
          "geo": {
           "bgcolor": "white",
           "lakecolor": "white",
           "landcolor": "#E5ECF6",
           "showlakes": true,
           "showland": true,
           "subunitcolor": "white"
          },
          "hoverlabel": {
           "align": "left"
          },
          "hovermode": "closest",
          "mapbox": {
           "style": "light"
          },
          "paper_bgcolor": "white",
          "plot_bgcolor": "#E5ECF6",
          "polar": {
           "angularaxis": {
            "gridcolor": "white",
            "linecolor": "white",
            "ticks": ""
           },
           "bgcolor": "#E5ECF6",
           "radialaxis": {
            "gridcolor": "white",
            "linecolor": "white",
            "ticks": ""
           }
          },
          "scene": {
           "xaxis": {
            "backgroundcolor": "#E5ECF6",
            "gridcolor": "white",
            "gridwidth": 2,
            "linecolor": "white",
            "showbackground": true,
            "ticks": "",
            "zerolinecolor": "white"
           },
           "yaxis": {
            "backgroundcolor": "#E5ECF6",
            "gridcolor": "white",
            "gridwidth": 2,
            "linecolor": "white",
            "showbackground": true,
            "ticks": "",
            "zerolinecolor": "white"
           },
           "zaxis": {
            "backgroundcolor": "#E5ECF6",
            "gridcolor": "white",
            "gridwidth": 2,
            "linecolor": "white",
            "showbackground": true,
            "ticks": "",
            "zerolinecolor": "white"
           }
          },
          "shapedefaults": {
           "line": {
            "color": "#2a3f5f"
           }
          },
          "ternary": {
           "aaxis": {
            "gridcolor": "white",
            "linecolor": "white",
            "ticks": ""
           },
           "baxis": {
            "gridcolor": "white",
            "linecolor": "white",
            "ticks": ""
           },
           "bgcolor": "#E5ECF6",
           "caxis": {
            "gridcolor": "white",
            "linecolor": "white",
            "ticks": ""
           }
          },
          "title": {
           "x": 0.05
          },
          "xaxis": {
           "automargin": true,
           "gridcolor": "white",
           "linecolor": "white",
           "ticks": "",
           "title": {
            "standoff": 15
           },
           "zerolinecolor": "white",
           "zerolinewidth": 2
          },
          "yaxis": {
           "automargin": true,
           "gridcolor": "white",
           "linecolor": "white",
           "ticks": "",
           "title": {
            "standoff": 15
           },
           "zerolinecolor": "white",
           "zerolinewidth": 2
          }
         }
        },
        "title": {
         "text": "Correlation Matrix"
        },
        "width": 800,
        "xaxis": {
         "autorange": true,
         "range": [
          -0.5,
          12.5
         ],
         "type": "category"
        },
        "yaxis": {
         "autorange": true,
         "range": [
          -0.5,
          12.5
         ],
         "type": "category"
        }
       }
      },
      "image/png": "[encoded data removed]",
      "text/html": [
       "<div>                            <div id=\"23241afa-dc85-4ccb-a593-da57659d1fb7\" class=\"plotly-graph-div\" style=\"height:600px; width:800px;\"></div>            <script type=\"text/javascript\">                require([\"plotly\"], function(Plotly) {                    window.PLOTLYENV=window.PLOTLYENV || {};                                    if (document.getElementById(\"23241afa-dc85-4ccb-a593-da57659d1fb7\")) {                    Plotly.newPlot(                        \"23241afa-dc85-4ccb-a593-da57659d1fb7\",                        [{\"colorscale\":[[0.0,\"#440154\"],[0.1111111111111111,\"#482878\"],[0.2222222222222222,\"#3e4989\"],[0.3333333333333333,\"#31688e\"],[0.4444444444444444,\"#26828e\"],[0.5555555555555556,\"#1f9e89\"],[0.6666666666666666,\"#35b779\"],[0.7777777777777778,\"#6ece58\"],[0.8888888888888888,\"#b5de2b\"],[1.0,\"#fde725\"]],\"text\":[[1.0,0.88,0.02,-0.01,0.01,0.08,0.1,-0.02,0.01,0.01,0.98,0.7,-0.01],[0.88,1.0,0.02,-0.02,0.01,0.04,0.04,-0.02,0.01,0.01,0.96,0.27,-0.01],[0.02,0.02,1.0,-0.88,-0.0,-0.04,-0.09,-0.0,0.0,-0.0,0.02,0.02,-0.81],[-0.01,-0.02,-0.88,1.0,-0.0,0.19,0.16,-0.01,0.0,0.0,-0.02,-0.01,0.98],[0.01,0.01,-0.0,-0.0,1.0,0.11,0.12,-0.0,0.01,-0.01,0.01,0.01,-0.0],[0.08,0.04,-0.04,0.19,0.11,1.0,0.91,-0.02,0.04,-0.02,0.07,0.11,0.18],[0.1,0.04,-0.09,0.16,0.12,0.91,1.0,-0.01,0.03,-0.02,0.08,0.13,0.14],[-0.02,-0.02,-0.0,-0.01,-0.0,-0.02,-0.01,1.0,-0.41,-0.22,-0.02,-0.02,-0.01],[0.01,0.01,0.0,0.0,0.01,0.04,0.03,-0.41,1.0,-0.8,0.01,0.01,0.0],[0.01,0.01,-0.0,0.0,-0.01,-0.02,-0.02,-0.22,-0.8,1.0,0.01,0.01,0.0],[0.98,0.96,0.02,-0.02,0.01,0.07,0.08,-0.02,0.01,0.01,1.0,0.54,-0.01],[0.7,0.27,0.02,-0.01,0.01,0.11,0.13,-0.02,0.01,0.01,0.54,1.0,-0.01],[-0.01,-0.01,-0.81,0.98,-0.0,0.18,0.14,-0.01,0.0,0.0,-0.01,-0.01,1.0]],\"x\":[\"Air temperature [K]\",\"Process temperature [K]\",\"Rotational speed [rpm]\",\"Torque [Nm]\",\"Tool wear [min]\",\"Machine failure\",\"Failure Type\",\"Type_H\",\"Type_L\",\"Type_M\",\"temp_product\",\"temp_difference\",\"power_output\"],\"y\":[\"Air temperature [K]\",\"Process temperature [K]\",\"Rotational speed [rpm]\",\"Torque [Nm]\",\"Tool wear [min]\",\"Machine failure\",\"Failure Type\",\"Type_H\",\"Type_L\",\"Type_M\",\"temp_product\",\"temp_difference\",\"power_output\"],\"z\":[[1.0,0.8760680669055656,0.023332345576718344,-0.014552847564444974,0.014370491503435263,0.08306614920748115,0.09959993704798387,-0.023175575452577604,0.006691423289627936,0.00802402454297159,0.9782078569356389,0.6997366463915367,-0.012132862317428468],[0.8760680669055656,1.0,0.020199883561507623,-0.015275095184434576,0.013970361607572078,0.0359973306952677,0.04428807574661781,-0.018247481124145974,0.0052395741419500146,0.006348758356974739,0.9570802279879282,0.2685417858635219,-0.012099968877988062],[0.023332345576718344,0.020199883561507623,1.0,-0.8750692996571533,-0.00010995467461009848,-0.04404174331955341,-0.08633021960746796,-0.0009599598374530144,0.004717585941404213,-0.004415011692430411,0.02274989365510642,0.016683320769332058,-0.8055890768473063],[-0.014552847564444974,-0.015275095184434576,-0.8750692996571533,1.0,-0.002552429768282731,0.19341988627358822,0.1637880655956209,-0.005080390786831007,0.0009550589946947284,0.0023061395267881127,-0.015335433601237203,-0.006440962588662051,0.9787894364718459],[0.014370491503435263,0.013970361607572078,-0.00010995467461009848,-0.002552429768282731,1.0,0.10633660470454961,0.11872992435394782,-0.0011772507121875957,0.006969530132723415,-0.006680321293229301,0.01464232998964827,0.008009740560545289,-0.0026203140379878064],[0.08306614920748115,0.0359973306952677,-0.04404174331955341,0.19341988627358822,0.10633660470454961,1.0,0.9136598376889009,-0.02432745777152246,0.03775389748540226,-0.02443135067402212,0.06540460817876702,0.11260857341430962,0.17798700960270933],[0.09959993704798387,0.04428807574661781,-0.08633021960746796,0.1637880655956209,0.11872992435394782,0.9136598376889009,1.0,-0.014265214031914216,0.029070071745017835,-0.021737135650237736,0.07888406074146852,0.13335476583434627,0.14413034739873104],[-0.023175575452577604,-0.018247481124145974,-0.0009599598374530144,-0.005080390786831007,-0.0011772507121875957,-0.02432745777152246,-0.014265214031914216,1.0,-0.40842452844155264,-0.21825606770113404,-0.021766265148732866,-0.019262787255343423,-0.0051138038567027444],[0.006691423289627936,0.0052395741419500146,0.004717585941404213,0.0009550589946947284,0.006969530132723415,0.03775389748540226,0.029070071745017835,-0.40842452844155264,1.0,-0.8016449453755767,0.006227916526528177,0.005604620634004625,0.0030892957854785448],[0.00802402454297159,0.006348758356974739,-0.004415011692430411,0.0023061395267881127,-0.006680321293229301,-0.02443135067402212,-0.021737135650237736,-0.21825606770113404,-0.8016449453755767,1.0,0.007596595324012142,0.006623415297451012,4.625002202538051e-05],[0.9782078569356389,0.9570802279879282,0.02274989365510642,-0.015335433601237203,0.01464232998964827,0.06540460817876702,0.07888406074146852,-0.021766265148732866,0.006227916526528177,0.007596595324012142,1.0,0.5361761190316824,-0.012508567225005401],[0.6997366463915367,0.2685417858635219,0.016683320769332058,-0.006440962588662051,0.008009740560545289,0.11260857341430962,0.13335476583434627,-0.019262787255343423,0.005604620634004625,0.006623415297451012,0.5361761190316824,1.0,-0.006310761378686028],[-0.012132862317428468,-0.012099968877988062,-0.8055890768473063,0.9787894364718459,-0.0026203140379878064,0.17798700960270933,0.14413034739873104,-0.0051138038567027444,0.0030892957854785448,4.625002202538051e-05,-0.012508567225005401,-0.006310761378686028,1.0]],\"zmax\":1,\"zmin\":-1,\"type\":\"heatmap\"}],                        {\"template\":{\"data\":{\"histogram2dcontour\":[{\"type\":\"histogram2dcontour\",\"colorbar\":{\"outlinewidth\":0,\"ticks\":\"\"},\"colorscale\":[[0.0,\"#0d0887\"],[0.1111111111111111,\"#46039f\"],[0.2222222222222222,\"#7201a8\"],[0.3333333333333333,\"#9c179e\"],[0.4444444444444444,\"#bd3786\"],[0.5555555555555556,\"#d8576b\"],[0.6666666666666666,\"#ed7953\"],[0.7777777777777778,\"#fb9f3a\"],[0.8888888888888888,\"#fdca26\"],[1.0,\"#f0f921\"]]}],\"choropleth\":[{\"type\":\"choropleth\",\"colorbar\":{\"outlinewidth\":0,\"ticks\":\"\"}}],\"histogram2d\":[{\"type\":\"histogram2d\",\"colorbar\":{\"outlinewidth\":0,\"ticks\":\"\"},\"colorscale\":[[0.0,\"#0d0887\"],[0.1111111111111111,\"#46039f\"],[0.2222222222222222,\"#7201a8\"],[0.3333333333333333,\"#9c179e\"],[0.4444444444444444,\"#bd3786\"],[0.5555555555555556,\"#d8576b\"],[0.6666666666666666,\"#ed7953\"],[0.7777777777777778,\"#fb9f3a\"],[0.8888888888888888,\"#fdca26\"],[1.0,\"#f0f921\"]]}],\"heatmap\":[{\"type\":\"heatmap\",\"colorbar\":{\"outlinewidth\":0,\"ticks\":\"\"},\"colorscale\":[[0.0,\"#0d0887\"],[0.1111111111111111,\"#46039f\"],[0.2222222222222222,\"#7201a8\"],[0.3333333333333333,\"#9c179e\"],[0.4444444444444444,\"#bd3786\"],[0.5555555555555556,\"#d8576b\"],[0.6666666666666666,\"#ed7953\"],[0.7777777777777778,\"#fb9f3a\"],[0.8888888888888888,\"#fdca26\"],[1.0,\"#f0f921\"]]}],\"heatmapgl\":[{\"type\":\"heatmapgl\",\"colorbar\":{\"outlinewidth\":0,\"ticks\":\"\"},\"colorscale\":[[0.0,\"#0d0887\"],[0.1111111111111111,\"#46039f\"],[0.2222222222222222,\"#7201a8\"],[0.3333333333333333,\"#9c179e\"],[0.4444444444444444,\"#bd3786\"],[0.5555555555555556,\"#d8576b\"],[0.6666666666666666,\"#ed7953\"],[0.7777777777777778,\"#fb9f3a\"],[0.8888888888888888,\"#fdca26\"],[1.0,\"#f0f921\"]]}],\"contourcarpet\":[{\"type\":\"contourcarpet\",\"colorbar\":{\"outlinewidth\":0,\"ticks\":\"\"}}],\"contour\":[{\"type\":\"contour\",\"colorbar\":{\"outlinewidth\":0,\"ticks\":\"\"},\"colorscale\":[[0.0,\"#0d0887\"],[0.1111111111111111,\"#46039f\"],[0.2222222222222222,\"#7201a8\"],[0.3333333333333333,\"#9c179e\"],[0.4444444444444444,\"#bd3786\"],[0.5555555555555556,\"#d8576b\"],[0.6666666666666666,\"#ed7953\"],[0.7777777777777778,\"#fb9f3a\"],[0.8888888888888888,\"#fdca26\"],[1.0,\"#f0f921\"]]}],\"surface\":[{\"type\":\"surface\",\"colorbar\":{\"outlinewidth\":0,\"ticks\":\"\"},\"colorscale\":[[0.0,\"#0d0887\"],[0.1111111111111111,\"#46039f\"],[0.2222222222222222,\"#7201a8\"],[0.3333333333333333,\"#9c179e\"],[0.4444444444444444,\"#bd3786\"],[0.5555555555555556,\"#d8576b\"],[0.6666666666666666,\"#ed7953\"],[0.7777777777777778,\"#fb9f3a\"],[0.8888888888888888,\"#fdca26\"],[1.0,\"#f0f921\"]]}],\"mesh3d\":[{\"type\":\"mesh3d\",\"colorbar\":{\"outlinewidth\":0,\"ticks\":\"\"}}],\"scatter\":[{\"fillpattern\":{\"fillmode\":\"overlay\",\"size\":10,\"solidity\":0.2},\"type\":\"scatter\"}],\"parcoords\":[{\"type\":\"parcoords\",\"line\":{\"colorbar\":{\"outlinewidth\":0,\"ticks\":\"\"}}}],\"scatterpolargl\":[{\"type\":\"scatterpolargl\",\"marker\":{\"colorbar\":{\"outlinewidth\":0,\"ticks\":\"\"}}}],\"bar\":[{\"error_x\":{\"color\":\"#2a3f5f\"},\"error_y\":{\"color\":\"#2a3f5f\"},\"marker\":{\"line\":{\"color\":\"#E5ECF6\",\"width\":0.5},\"pattern\":{\"fillmode\":\"overlay\",\"size\":10,\"solidity\":0.2}},\"type\":\"bar\"}],\"scattergeo\":[{\"type\":\"scattergeo\",\"marker\":{\"colorbar\":{\"outlinewidth\":0,\"ticks\":\"\"}}}],\"scatterpolar\":[{\"type\":\"scatterpolar\",\"marker\":{\"colorbar\":{\"outlinewidth\":0,\"ticks\":\"\"}}}],\"histogram\":[{\"marker\":{\"pattern\":{\"fillmode\":\"overlay\",\"size\":10,\"solidity\":0.2}},\"type\":\"histogram\"}],\"scattergl\":[{\"type\":\"scattergl\",\"marker\":{\"colorbar\":{\"outlinewidth\":0,\"ticks\":\"\"}}}],\"scatter3d\":[{\"type\":\"scatter3d\",\"line\":{\"colorbar\":{\"outlinewidth\":0,\"ticks\":\"\"}},\"marker\":{\"colorbar\":{\"outlinewidth\":0,\"ticks\":\"\"}}}],\"scattermapbox\":[{\"type\":\"scattermapbox\",\"marker\":{\"colorbar\":{\"outlinewidth\":0,\"ticks\":\"\"}}}],\"scatterternary\":[{\"type\":\"scatterternary\",\"marker\":{\"colorbar\":{\"outlinewidth\":0,\"ticks\":\"\"}}}],\"scattercarpet\":[{\"type\":\"scattercarpet\",\"marker\":{\"colorbar\":{\"outlinewidth\":0,\"ticks\":\"\"}}}],\"carpet\":[{\"aaxis\":{\"endlinecolor\":\"#2a3f5f\",\"gridcolor\":\"white\",\"linecolor\":\"white\",\"minorgridcolor\":\"white\",\"startlinecolor\":\"#2a3f5f\"},\"baxis\":{\"endlinecolor\":\"#2a3f5f\",\"gridcolor\":\"white\",\"linecolor\":\"white\",\"minorgridcolor\":\"white\",\"startlinecolor\":\"#2a3f5f\"},\"type\":\"carpet\"}],\"table\":[{\"cells\":{\"fill\":{\"color\":\"#EBF0F8\"},\"line\":{\"color\":\"white\"}},\"header\":{\"fill\":{\"color\":\"#C8D4E3\"},\"line\":{\"color\":\"white\"}},\"type\":\"table\"}],\"barpolar\":[{\"marker\":{\"line\":{\"color\":\"#E5ECF6\",\"width\":0.5},\"pattern\":{\"fillmode\":\"overlay\",\"size\":10,\"solidity\":0.2}},\"type\":\"barpolar\"}],\"pie\":[{\"automargin\":true,\"type\":\"pie\"}]},\"layout\":{\"autotypenumbers\":\"strict\",\"colorway\":[\"#636efa\",\"#EF553B\",\"#00cc96\",\"#ab63fa\",\"#FFA15A\",\"#19d3f3\",\"#FF6692\",\"#B6E880\",\"#FF97FF\",\"#FECB52\"],\"font\":{\"color\":\"#2a3f5f\"},\"hovermode\":\"closest\",\"hoverlabel\":{\"align\":\"left\"},\"paper_bgcolor\":\"white\",\"plot_bgcolor\":\"#E5ECF6\",\"polar\":{\"bgcolor\":\"#E5ECF6\",\"angularaxis\":{\"gridcolor\":\"white\",\"linecolor\":\"white\",\"ticks\":\"\"},\"radialaxis\":{\"gridcolor\":\"white\",\"linecolor\":\"white\",\"ticks\":\"\"}},\"ternary\":{\"bgcolor\":\"#E5ECF6\",\"aaxis\":{\"gridcolor\":\"white\",\"linecolor\":\"white\",\"ticks\":\"\"},\"baxis\":{\"gridcolor\":\"white\",\"linecolor\":\"white\",\"ticks\":\"\"},\"caxis\":{\"gridcolor\":\"white\",\"linecolor\":\"white\",\"ticks\":\"\"}},\"coloraxis\":{\"colorbar\":{\"outlinewidth\":0,\"ticks\":\"\"}},\"colorscale\":{\"sequential\":[[0.0,\"#0d0887\"],[0.1111111111111111,\"#46039f\"],[0.2222222222222222,\"#7201a8\"],[0.3333333333333333,\"#9c179e\"],[0.4444444444444444,\"#bd3786\"],[0.5555555555555556,\"#d8576b\"],[0.6666666666666666,\"#ed7953\"],[0.7777777777777778,\"#fb9f3a\"],[0.8888888888888888,\"#fdca26\"],[1.0,\"#f0f921\"]],\"sequentialminus\":[[0.0,\"#0d0887\"],[0.1111111111111111,\"#46039f\"],[0.2222222222222222,\"#7201a8\"],[0.3333333333333333,\"#9c179e\"],[0.4444444444444444,\"#bd3786\"],[0.5555555555555556,\"#d8576b\"],[0.6666666666666666,\"#ed7953\"],[0.7777777777777778,\"#fb9f3a\"],[0.8888888888888888,\"#fdca26\"],[1.0,\"#f0f921\"]],\"diverging\":[[0,\"#8e0152\"],[0.1,\"#c51b7d\"],[0.2,\"#de77ae\"],[0.3,\"#f1b6da\"],[0.4,\"#fde0ef\"],[0.5,\"#f7f7f7\"],[0.6,\"#e6f5d0\"],[0.7,\"#b8e186\"],[0.8,\"#7fbc41\"],[0.9,\"#4d9221\"],[1,\"#276419\"]]},\"xaxis\":{\"gridcolor\":\"white\",\"linecolor\":\"white\",\"ticks\":\"\",\"title\":{\"standoff\":15},\"zerolinecolor\":\"white\",\"automargin\":true,\"zerolinewidth\":2},\"yaxis\":{\"gridcolor\":\"white\",\"linecolor\":\"white\",\"ticks\":\"\",\"title\":{\"standoff\":15},\"zerolinecolor\":\"white\",\"automargin\":true,\"zerolinewidth\":2},\"scene\":{\"xaxis\":{\"backgroundcolor\":\"#E5ECF6\",\"gridcolor\":\"white\",\"linecolor\":\"white\",\"showbackground\":true,\"ticks\":\"\",\"zerolinecolor\":\"white\",\"gridwidth\":2},\"yaxis\":{\"backgroundcolor\":\"#E5ECF6\",\"gridcolor\":\"white\",\"linecolor\":\"white\",\"showbackground\":true,\"ticks\":\"\",\"zerolinecolor\":\"white\",\"gridwidth\":2},\"zaxis\":{\"backgroundcolor\":\"#E5ECF6\",\"gridcolor\":\"white\",\"linecolor\":\"white\",\"showbackground\":true,\"ticks\":\"\",\"zerolinecolor\":\"white\",\"gridwidth\":2}},\"shapedefaults\":{\"line\":{\"color\":\"#2a3f5f\"}},\"annotationdefaults\":{\"arrowcolor\":\"#2a3f5f\",\"arrowhead\":0,\"arrowwidth\":1},\"geo\":{\"bgcolor\":\"white\",\"landcolor\":\"#E5ECF6\",\"subunitcolor\":\"white\",\"showland\":true,\"showlakes\":true,\"lakecolor\":\"white\"},\"title\":{\"x\":0.05},\"mapbox\":{\"style\":\"light\"}}},\"title\":{\"text\":\"Correlation Matrix\"},\"height\":600,\"width\":800},                        {\"responsive\": true}                    ).then(function(){\n",
       "                            \n",
       "var gd = document.getElementById('23241afa-dc85-4ccb-a593-da57659d1fb7');\n",
       "var x = new MutationObserver(function (mutations, observer) {{\n",
       "        var display = window.getComputedStyle(gd).display;\n",
       "        if (!display || display === 'none') {{\n",
       "            console.log([gd, 'removed!']);\n",
       "            Plotly.purge(gd);\n",
       "            observer.disconnect();\n",
       "        }}\n",
       "}});\n",
       "\n",
       "// Listen for the removal of the full notebook cells\n",
       "var notebookContainer = gd.closest('#notebook-container');\n",
       "if (notebookContainer) {{\n",
       "    x.observe(notebookContainer, {childList: true});\n",
       "}}\n",
       "\n",
       "// Listen for the clearing of the current output cell\n",
       "var outputEl = gd.closest('.output');\n",
       "if (outputEl) {{\n",
       "    x.observe(outputEl, {childList: true});\n",
       "}}\n",
       "\n",
       "                        })                };                });            </script>        </div>"
      ]
     },
     "metadata": {},
     "output_type": "display_data"
    }
   ],
   "source": [
    "import plotly.graph_objects as go\n",
    "import pandas as pd\n",
    "\n",
    "# Compute correlation matrix from your DataFrame\n",
    "correlation_matrix = feat_df.corr()\n",
    "\n",
    "# Create heatmap using Plotly\n",
    "fig = go.Figure(data=go.Heatmap(z=correlation_matrix.values,\n",
    "                                 x=correlation_matrix.columns,\n",
    "                                 y=correlation_matrix.index,\n",
    "                                 colorscale='Viridis',\n",
    "                                 zmin=-1, zmax=1,\n",
    "                                 text=correlation_matrix.round(2).values))\n",
    "fig.update_layout(title='Correlation Matrix', height=600, width=800)\n",
    "fig.show()"
   ]
  },
  {
   "cell_type": "code",
   "execution_count": null,
   "id": "5c4c8163-6462-4cee-9861-13519fe75c31",
   "metadata": {},
   "outputs": [],
   "source": []
  }
 ],
 "metadata": {
  "kernelspec": {
   "display_name": "Python 3 (ipykernel)",
   "language": "python",
   "name": "python3"
  },
  "language_info": {
   "codemirror_mode": {
    "name": "ipython",
    "version": 3
   },
   "file_extension": ".py",
   "mimetype": "text/x-python",
   "name": "python",
   "nbconvert_exporter": "python",
   "pygments_lexer": "ipython3",
   "version": "3.10.13"
  }
 },
 "nbformat": 4,
 "nbformat_minor": 5
}
